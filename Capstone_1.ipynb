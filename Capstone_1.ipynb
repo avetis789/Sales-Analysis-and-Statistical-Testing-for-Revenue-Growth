{
  "nbformat": 4,
  "nbformat_minor": 0,
  "metadata": {
    "colab": {
      "provenance": []
    },
    "kernelspec": {
      "name": "python3",
      "display_name": "Python 3"
    },
    "language_info": {
      "name": "python"
    }
  },
  "cells": [
    {
      "cell_type": "markdown",
      "source": [
        "# About the Project"
      ],
      "metadata": {
        "id": "8ZquqqASZ830"
      }
    },
    {
      "cell_type": "code",
      "execution_count": 1,
      "metadata": {
        "id": "mD4TubqGPp9S"
      },
      "outputs": [],
      "source": [
        "\n",
        "# Question 1:  This is a comprehensive dataset reflecting a company's sale accross 49 states between 2015 and 2018.\n",
        "#              This research will focus on sales growth trends in California by comparing total sales in 2017 and 2018.\n",
        "#              It will provide good ground to further a granular research into specific products that experience growth in sales\n",
        "#              to both replicate success in other states and possibly focuse more on those products.\n",
        "# Question 2:  The link to the dataset -- https://www.kaggle.com/datasets/bhanupratapbiswas/superstore-sales\n",
        "# Question 3:  Primary question:\n",
        "#              On average, was there growth in sales in the state of California in the year 2018 compared to the year 2017,\n",
        "#              given the samples that have been collected.\n",
        "#              Subsequent question:\n",
        "#              If yes, what were specific product categories that contributed more significantly to the growth in sales in California\n",
        "#              in 2018, and what factors influenced these trends.\n",
        "# Question 4:  Primary Research Question:\n",
        "#              Hypothesis(H1): There was a statistically significant increase in the average sales in California in 2018 compared to 2017.\n",
        "#              Null Hypothesis(H0): There was no statistically significant change in the average sales in California between 2017 and 2018.\n",
        "#              *******  if data is normally distributed I will use independent sample's t-test, if not will use Mann-Whitney U Test.  *******\n",
        "#              Subsequent Research Question:\n",
        "#              Hypothesis(H1): Certain product categories contributed significantly more to the sales growth in California in 2018 compared to others.\n",
        "#              Null Hypothesis(H0): No specific product category significantly outperformed others in contributing to sales growth in California in 2018.\n",
        "#              *******  if data is normallly distributed will use one way ANOVA test to test multiple groups of products, if not will use Kruskal-Walis test   *******\n",
        "# Question 5:  Will load the data, then filter to only California and devide in two groups by year 2017 and 2018. Then will proceed with the first question.\n",
        "#              If H1 is established, will then proceed to the second question and test each product category.\n",
        "# Question 6:  This research would be valuable to the company operating the store, since the research will shed light on whether there is progress in year to year\n",
        "#              sale, what contributes to the increased sale, what product is selling more and what are the contributing factors for this increase. The company then\n",
        "#              can zero in on these factors to possibly replicate success in other states to increase sales in all the states.\n",
        "# Question 7:  The audience or the public in general will benefit from this because the company will focus on those products that has more demand by the public.\n",
        "#              The research is a way of conversation between consumers and sellers to understand demand and adjust products based on demand which benefits the public.\n",
        "\n",
        "\n",
        "#######  This dataset is very rich including multiple aspects, I couldn't think of any other variable that could be useful for the purpose of this discussion  #######\n",
        "#######  I also couldn't find potential for bias in the data collection, since this is total number of all actual sales the store had  #######\n",
        "\n"
      ]
    },
    {
      "cell_type": "markdown",
      "source": [
        "# Import Modules"
      ],
      "metadata": {
        "id": "74cYQoKKbvw1"
      }
    },
    {
      "cell_type": "code",
      "source": [
        "import pandas as pd\n",
        "import numpy as np\n",
        "import seaborn as sns\n",
        "from scipy import stats\n",
        "import matplotlib.pyplot as plt\n",
        "from datetime import datetime\n",
        "from scipy.stats import kruskal\n",
        "from scipy.stats import shapiro\n",
        "from matplotlib import pyplot as plt\n",
        "from scipy.stats import mannwhitneyu\n",
        "from matplotlib.ticker import FixedLocator\n",
        "\n",
        "sales = pd.read_csv('/content/drive/MyDrive/Fundamentals/superstore_final_dataset.csv', encoding='ISO-8859–1')\n",
        "sales.head(10)\n",
        "sales.info()\n"
      ],
      "metadata": {
        "colab": {
          "base_uri": "https://localhost:8080/"
        },
        "id": "TGcsn99IaLYC",
        "outputId": "da96400f-bf45-4b7f-bb57-2f0900c4904d"
      },
      "execution_count": 2,
      "outputs": [
        {
          "output_type": "stream",
          "name": "stdout",
          "text": [
            "<class 'pandas.core.frame.DataFrame'>\n",
            "RangeIndex: 9800 entries, 0 to 9799\n",
            "Data columns (total 18 columns):\n",
            " #   Column         Non-Null Count  Dtype  \n",
            "---  ------         --------------  -----  \n",
            " 0   Row_ID         9800 non-null   int64  \n",
            " 1   Order_ID       9800 non-null   object \n",
            " 2   Order_Date     9800 non-null   object \n",
            " 3   Ship_Date      9800 non-null   object \n",
            " 4   Ship_Mode      9800 non-null   object \n",
            " 5   Customer_ID    9800 non-null   object \n",
            " 6   Customer_Name  9800 non-null   object \n",
            " 7   Segment        9800 non-null   object \n",
            " 8   Country        9800 non-null   object \n",
            " 9   City           9800 non-null   object \n",
            " 10  State          9800 non-null   object \n",
            " 11  Postal_Code    9789 non-null   float64\n",
            " 12  Region         9800 non-null   object \n",
            " 13  Product_ID     9800 non-null   object \n",
            " 14  Category       9800 non-null   object \n",
            " 15  Sub_Category   9800 non-null   object \n",
            " 16  Product_Name   9800 non-null   object \n",
            " 17  Sales          9800 non-null   float64\n",
            "dtypes: float64(2), int64(1), object(15)\n",
            "memory usage: 1.3+ MB\n"
          ]
        }
      ]
    },
    {
      "cell_type": "markdown",
      "source": [
        "# Data Cleaning"
      ],
      "metadata": {
        "id": "KOxbpxm7bhUy"
      }
    },
    {
      "cell_type": "code",
      "source": [
        "# Remove duplicates and convert column names to lower case\n",
        "sales = sales.drop_duplicates()\n",
        "\n",
        "# Converting to lower case\n",
        "sales.columns = sales.columns.str.lower()\n",
        "for col in sales.select_dtypes(include=[object]).columns:\n",
        "    sales[col] = sales[col].str.lower()\n",
        "\n",
        "# Convert 'order_date' to datetime format\n",
        "sales['order_date'] = pd.to_datetime(sales['order_date'], format='%d/%m/%Y', errors='coerce')\n",
        "\n",
        "# Fill missing postal codes with '0000'\n",
        "sales['postal_code'] = sales['postal_code'].fillna('0000')\n",
        "\n",
        "# Ensure all sales data are numeric\n",
        "sales['sales'] = pd.to_numeric(sales['sales'], errors='coerce')\n",
        "\n",
        "# Check for missing values\n",
        "missing_values = sales.isnull().sum()\n",
        "print(\"Missing Values\")\n",
        "print(missing_values)\n",
        "\n",
        "# Filter data to only California and divide it into two groups by year 2017 and 2018\n",
        "sales_ca = sales[sales['state'] == 'california'].copy()\n",
        "sales_ca['year'] = sales_ca['order_date'].dt.year\n",
        "sales_ca_17 = sales_ca[sales_ca['year'] == 2017]\n",
        "sales_ca_18 = sales_ca[sales_ca['year'] == 2018]\n",
        "\n",
        "sales_ca.head(2)"
      ],
      "metadata": {
        "colab": {
          "base_uri": "https://localhost:8080/",
          "height": 601
        },
        "id": "0BpbWtftbbEU",
        "outputId": "3f72634f-59a9-4f2e-bc93-d83a385bb1aa"
      },
      "execution_count": 3,
      "outputs": [
        {
          "output_type": "stream",
          "name": "stdout",
          "text": [
            "Missing Values\n",
            "row_id           0\n",
            "order_id         0\n",
            "order_date       0\n",
            "ship_date        0\n",
            "ship_mode        0\n",
            "customer_id      0\n",
            "customer_name    0\n",
            "segment          0\n",
            "country          0\n",
            "city             0\n",
            "state            0\n",
            "postal_code      0\n",
            "region           0\n",
            "product_id       0\n",
            "category         0\n",
            "sub_category     0\n",
            "product_name     0\n",
            "sales            0\n",
            "dtype: int64\n"
          ]
        },
        {
          "output_type": "execute_result",
          "data": {
            "text/plain": [
              "   row_id        order_id order_date   ship_date       ship_mode customer_id  \\\n",
              "2       3  ca-2017-138688 2017-06-12  16/06/2017    second class    dv-13045   \n",
              "5       6  ca-2015-115812 2015-06-09  14/06/2015  standard class    bh-11710   \n",
              "\n",
              "     customer_name    segment        country         city       state  \\\n",
              "2  darrin van huff  corporate  united states  los angeles  california   \n",
              "5  brosina hoffman   consumer  united states  los angeles  california   \n",
              "\n",
              "  postal_code region       product_id         category sub_category  \\\n",
              "2     90036.0   west  off-la-10000240  office supplies       labels   \n",
              "5     90032.0   west  fur-fu-10001487        furniture  furnishings   \n",
              "\n",
              "                                        product_name  sales  year  \n",
              "2  self-adhesive address labels for typewriters b...  14.62  2017  \n",
              "5  eldon expressions wood and plastic desk access...  48.86  2015  "
            ],
            "text/html": [
              "\n",
              "  <div id=\"df-fdb8a144-4646-4ff8-8dcc-3a47c62ca66f\" class=\"colab-df-container\">\n",
              "    <div>\n",
              "<style scoped>\n",
              "    .dataframe tbody tr th:only-of-type {\n",
              "        vertical-align: middle;\n",
              "    }\n",
              "\n",
              "    .dataframe tbody tr th {\n",
              "        vertical-align: top;\n",
              "    }\n",
              "\n",
              "    .dataframe thead th {\n",
              "        text-align: right;\n",
              "    }\n",
              "</style>\n",
              "<table border=\"1\" class=\"dataframe\">\n",
              "  <thead>\n",
              "    <tr style=\"text-align: right;\">\n",
              "      <th></th>\n",
              "      <th>row_id</th>\n",
              "      <th>order_id</th>\n",
              "      <th>order_date</th>\n",
              "      <th>ship_date</th>\n",
              "      <th>ship_mode</th>\n",
              "      <th>customer_id</th>\n",
              "      <th>customer_name</th>\n",
              "      <th>segment</th>\n",
              "      <th>country</th>\n",
              "      <th>city</th>\n",
              "      <th>state</th>\n",
              "      <th>postal_code</th>\n",
              "      <th>region</th>\n",
              "      <th>product_id</th>\n",
              "      <th>category</th>\n",
              "      <th>sub_category</th>\n",
              "      <th>product_name</th>\n",
              "      <th>sales</th>\n",
              "      <th>year</th>\n",
              "    </tr>\n",
              "  </thead>\n",
              "  <tbody>\n",
              "    <tr>\n",
              "      <th>2</th>\n",
              "      <td>3</td>\n",
              "      <td>ca-2017-138688</td>\n",
              "      <td>2017-06-12</td>\n",
              "      <td>16/06/2017</td>\n",
              "      <td>second class</td>\n",
              "      <td>dv-13045</td>\n",
              "      <td>darrin van huff</td>\n",
              "      <td>corporate</td>\n",
              "      <td>united states</td>\n",
              "      <td>los angeles</td>\n",
              "      <td>california</td>\n",
              "      <td>90036.0</td>\n",
              "      <td>west</td>\n",
              "      <td>off-la-10000240</td>\n",
              "      <td>office supplies</td>\n",
              "      <td>labels</td>\n",
              "      <td>self-adhesive address labels for typewriters b...</td>\n",
              "      <td>14.62</td>\n",
              "      <td>2017</td>\n",
              "    </tr>\n",
              "    <tr>\n",
              "      <th>5</th>\n",
              "      <td>6</td>\n",
              "      <td>ca-2015-115812</td>\n",
              "      <td>2015-06-09</td>\n",
              "      <td>14/06/2015</td>\n",
              "      <td>standard class</td>\n",
              "      <td>bh-11710</td>\n",
              "      <td>brosina hoffman</td>\n",
              "      <td>consumer</td>\n",
              "      <td>united states</td>\n",
              "      <td>los angeles</td>\n",
              "      <td>california</td>\n",
              "      <td>90032.0</td>\n",
              "      <td>west</td>\n",
              "      <td>fur-fu-10001487</td>\n",
              "      <td>furniture</td>\n",
              "      <td>furnishings</td>\n",
              "      <td>eldon expressions wood and plastic desk access...</td>\n",
              "      <td>48.86</td>\n",
              "      <td>2015</td>\n",
              "    </tr>\n",
              "  </tbody>\n",
              "</table>\n",
              "</div>\n",
              "    <div class=\"colab-df-buttons\">\n",
              "\n",
              "  <div class=\"colab-df-container\">\n",
              "    <button class=\"colab-df-convert\" onclick=\"convertToInteractive('df-fdb8a144-4646-4ff8-8dcc-3a47c62ca66f')\"\n",
              "            title=\"Convert this dataframe to an interactive table.\"\n",
              "            style=\"display:none;\">\n",
              "\n",
              "  <svg xmlns=\"http://www.w3.org/2000/svg\" height=\"24px\" viewBox=\"0 -960 960 960\">\n",
              "    <path d=\"M120-120v-720h720v720H120Zm60-500h600v-160H180v160Zm220 220h160v-160H400v160Zm0 220h160v-160H400v160ZM180-400h160v-160H180v160Zm440 0h160v-160H620v160ZM180-180h160v-160H180v160Zm440 0h160v-160H620v160Z\"/>\n",
              "  </svg>\n",
              "    </button>\n",
              "\n",
              "  <style>\n",
              "    .colab-df-container {\n",
              "      display:flex;\n",
              "      gap: 12px;\n",
              "    }\n",
              "\n",
              "    .colab-df-convert {\n",
              "      background-color: #E8F0FE;\n",
              "      border: none;\n",
              "      border-radius: 50%;\n",
              "      cursor: pointer;\n",
              "      display: none;\n",
              "      fill: #1967D2;\n",
              "      height: 32px;\n",
              "      padding: 0 0 0 0;\n",
              "      width: 32px;\n",
              "    }\n",
              "\n",
              "    .colab-df-convert:hover {\n",
              "      background-color: #E2EBFA;\n",
              "      box-shadow: 0px 1px 2px rgba(60, 64, 67, 0.3), 0px 1px 3px 1px rgba(60, 64, 67, 0.15);\n",
              "      fill: #174EA6;\n",
              "    }\n",
              "\n",
              "    .colab-df-buttons div {\n",
              "      margin-bottom: 4px;\n",
              "    }\n",
              "\n",
              "    [theme=dark] .colab-df-convert {\n",
              "      background-color: #3B4455;\n",
              "      fill: #D2E3FC;\n",
              "    }\n",
              "\n",
              "    [theme=dark] .colab-df-convert:hover {\n",
              "      background-color: #434B5C;\n",
              "      box-shadow: 0px 1px 3px 1px rgba(0, 0, 0, 0.15);\n",
              "      filter: drop-shadow(0px 1px 2px rgba(0, 0, 0, 0.3));\n",
              "      fill: #FFFFFF;\n",
              "    }\n",
              "  </style>\n",
              "\n",
              "    <script>\n",
              "      const buttonEl =\n",
              "        document.querySelector('#df-fdb8a144-4646-4ff8-8dcc-3a47c62ca66f button.colab-df-convert');\n",
              "      buttonEl.style.display =\n",
              "        google.colab.kernel.accessAllowed ? 'block' : 'none';\n",
              "\n",
              "      async function convertToInteractive(key) {\n",
              "        const element = document.querySelector('#df-fdb8a144-4646-4ff8-8dcc-3a47c62ca66f');\n",
              "        const dataTable =\n",
              "          await google.colab.kernel.invokeFunction('convertToInteractive',\n",
              "                                                    [key], {});\n",
              "        if (!dataTable) return;\n",
              "\n",
              "        const docLinkHtml = 'Like what you see? Visit the ' +\n",
              "          '<a target=\"_blank\" href=https://colab.research.google.com/notebooks/data_table.ipynb>data table notebook</a>'\n",
              "          + ' to learn more about interactive tables.';\n",
              "        element.innerHTML = '';\n",
              "        dataTable['output_type'] = 'display_data';\n",
              "        await google.colab.output.renderOutput(dataTable, element);\n",
              "        const docLink = document.createElement('div');\n",
              "        docLink.innerHTML = docLinkHtml;\n",
              "        element.appendChild(docLink);\n",
              "      }\n",
              "    </script>\n",
              "  </div>\n",
              "\n",
              "\n",
              "<div id=\"df-e2c7868c-9622-475a-9c68-b2fd0923dcf6\">\n",
              "  <button class=\"colab-df-quickchart\" onclick=\"quickchart('df-e2c7868c-9622-475a-9c68-b2fd0923dcf6')\"\n",
              "            title=\"Suggest charts\"\n",
              "            style=\"display:none;\">\n",
              "\n",
              "<svg xmlns=\"http://www.w3.org/2000/svg\" height=\"24px\"viewBox=\"0 0 24 24\"\n",
              "     width=\"24px\">\n",
              "    <g>\n",
              "        <path d=\"M19 3H5c-1.1 0-2 .9-2 2v14c0 1.1.9 2 2 2h14c1.1 0 2-.9 2-2V5c0-1.1-.9-2-2-2zM9 17H7v-7h2v7zm4 0h-2V7h2v10zm4 0h-2v-4h2v4z\"/>\n",
              "    </g>\n",
              "</svg>\n",
              "  </button>\n",
              "\n",
              "<style>\n",
              "  .colab-df-quickchart {\n",
              "      --bg-color: #E8F0FE;\n",
              "      --fill-color: #1967D2;\n",
              "      --hover-bg-color: #E2EBFA;\n",
              "      --hover-fill-color: #174EA6;\n",
              "      --disabled-fill-color: #AAA;\n",
              "      --disabled-bg-color: #DDD;\n",
              "  }\n",
              "\n",
              "  [theme=dark] .colab-df-quickchart {\n",
              "      --bg-color: #3B4455;\n",
              "      --fill-color: #D2E3FC;\n",
              "      --hover-bg-color: #434B5C;\n",
              "      --hover-fill-color: #FFFFFF;\n",
              "      --disabled-bg-color: #3B4455;\n",
              "      --disabled-fill-color: #666;\n",
              "  }\n",
              "\n",
              "  .colab-df-quickchart {\n",
              "    background-color: var(--bg-color);\n",
              "    border: none;\n",
              "    border-radius: 50%;\n",
              "    cursor: pointer;\n",
              "    display: none;\n",
              "    fill: var(--fill-color);\n",
              "    height: 32px;\n",
              "    padding: 0;\n",
              "    width: 32px;\n",
              "  }\n",
              "\n",
              "  .colab-df-quickchart:hover {\n",
              "    background-color: var(--hover-bg-color);\n",
              "    box-shadow: 0 1px 2px rgba(60, 64, 67, 0.3), 0 1px 3px 1px rgba(60, 64, 67, 0.15);\n",
              "    fill: var(--button-hover-fill-color);\n",
              "  }\n",
              "\n",
              "  .colab-df-quickchart-complete:disabled,\n",
              "  .colab-df-quickchart-complete:disabled:hover {\n",
              "    background-color: var(--disabled-bg-color);\n",
              "    fill: var(--disabled-fill-color);\n",
              "    box-shadow: none;\n",
              "  }\n",
              "\n",
              "  .colab-df-spinner {\n",
              "    border: 2px solid var(--fill-color);\n",
              "    border-color: transparent;\n",
              "    border-bottom-color: var(--fill-color);\n",
              "    animation:\n",
              "      spin 1s steps(1) infinite;\n",
              "  }\n",
              "\n",
              "  @keyframes spin {\n",
              "    0% {\n",
              "      border-color: transparent;\n",
              "      border-bottom-color: var(--fill-color);\n",
              "      border-left-color: var(--fill-color);\n",
              "    }\n",
              "    20% {\n",
              "      border-color: transparent;\n",
              "      border-left-color: var(--fill-color);\n",
              "      border-top-color: var(--fill-color);\n",
              "    }\n",
              "    30% {\n",
              "      border-color: transparent;\n",
              "      border-left-color: var(--fill-color);\n",
              "      border-top-color: var(--fill-color);\n",
              "      border-right-color: var(--fill-color);\n",
              "    }\n",
              "    40% {\n",
              "      border-color: transparent;\n",
              "      border-right-color: var(--fill-color);\n",
              "      border-top-color: var(--fill-color);\n",
              "    }\n",
              "    60% {\n",
              "      border-color: transparent;\n",
              "      border-right-color: var(--fill-color);\n",
              "    }\n",
              "    80% {\n",
              "      border-color: transparent;\n",
              "      border-right-color: var(--fill-color);\n",
              "      border-bottom-color: var(--fill-color);\n",
              "    }\n",
              "    90% {\n",
              "      border-color: transparent;\n",
              "      border-bottom-color: var(--fill-color);\n",
              "    }\n",
              "  }\n",
              "</style>\n",
              "\n",
              "  <script>\n",
              "    async function quickchart(key) {\n",
              "      const quickchartButtonEl =\n",
              "        document.querySelector('#' + key + ' button');\n",
              "      quickchartButtonEl.disabled = true;  // To prevent multiple clicks.\n",
              "      quickchartButtonEl.classList.add('colab-df-spinner');\n",
              "      try {\n",
              "        const charts = await google.colab.kernel.invokeFunction(\n",
              "            'suggestCharts', [key], {});\n",
              "      } catch (error) {\n",
              "        console.error('Error during call to suggestCharts:', error);\n",
              "      }\n",
              "      quickchartButtonEl.classList.remove('colab-df-spinner');\n",
              "      quickchartButtonEl.classList.add('colab-df-quickchart-complete');\n",
              "    }\n",
              "    (() => {\n",
              "      let quickchartButtonEl =\n",
              "        document.querySelector('#df-e2c7868c-9622-475a-9c68-b2fd0923dcf6 button');\n",
              "      quickchartButtonEl.style.display =\n",
              "        google.colab.kernel.accessAllowed ? 'block' : 'none';\n",
              "    })();\n",
              "  </script>\n",
              "</div>\n",
              "\n",
              "    </div>\n",
              "  </div>\n"
            ],
            "application/vnd.google.colaboratory.intrinsic+json": {
              "type": "dataframe",
              "variable_name": "sales_ca",
              "repr_error": "0"
            }
          },
          "metadata": {},
          "execution_count": 3
        }
      ]
    },
    {
      "cell_type": "markdown",
      "source": [
        "# Data Exploration"
      ],
      "metadata": {
        "id": "NoPWkouFchKV"
      }
    },
    {
      "cell_type": "code",
      "source": [
        "# Now I proceed to the first research question, whether there is difference in means in sales\n",
        "#    for the two years. I made histograms that show slightly more sales in 2018 but the box plot\n",
        "#    initially reveals outliers in kurtosis in both years and otherwise similar data.\n",
        "\n",
        "bins = np.linspace(min(sales_ca_17['sales'].min(), sales_ca_18['sales'].min()),\n",
        "                   max(sales_ca_17['sales'].max(), sales_ca_18['sales'].max()), 30)\n",
        "\n",
        "plt.hist(sales_ca_17['sales'], bins=bins, alpha=0.5, label='Sales in 2017', align='left')\n",
        "plt.hist(sales_ca_18['sales'], bins=bins, alpha=0.5, label='Sales in 2018', align='right')\n",
        "\n",
        "plt.legend(loc='upper right')\n",
        "plt.xlabel('Sales')\n",
        "plt.ylabel('Frequency')\n",
        "plt.title('Sales in 2017 and 2018')\n",
        "plt.show()\n",
        "\n",
        "sales_ca.boxplot('sales', by = 'year', figsize = (10, 6))\n"
      ],
      "metadata": {
        "colab": {
          "base_uri": "https://localhost:8080/",
          "height": 1000
        },
        "id": "thoxbgYpcKre",
        "outputId": "8bb99cdc-d9b8-4073-ccbd-98b7322e4c1a"
      },
      "execution_count": 4,
      "outputs": [
        {
          "output_type": "display_data",
          "data": {
            "text/plain": [
              "<Figure size 640x480 with 1 Axes>"
            ],
            "image/png": "[encoded data removed]"
          },
          "metadata": {}
        },
        {
          "output_type": "execute_result",
          "data": {
            "text/plain": [
              "<Axes: title={'center': 'sales'}, xlabel='year'>"
            ]
          },
          "metadata": {},
          "execution_count": 4
        },
        {
          "output_type": "display_data",
          "data": {
            "text/plain": [
              "<Figure size 1000x600 with 1 Axes>"
            ],
            "image/png": "[encoded data removed]"
          },
          "metadata": {}
        }
      ]
    },
    {
      "cell_type": "code",
      "source": [
        "# Pointplot shows higher total sales in the year 2018 than 2017.\n",
        "\n",
        "plt.figure(figsize=(8, 6))\n",
        "total_sales_by_year = sales_ca.groupby('year')['sales'].sum().reset_index()\n",
        "g = sns.pointplot(x='year', y='sales', data=total_sales_by_year, capsize=0.1, color=\"blue\", linestyle='None')\n",
        "g.set_xticks([0, 1])  # Explicitly set x-ticks positions\n",
        "g.set_xticklabels(['2017', '2018'])  # Set custom labels for the x-axis ticks\n",
        "g.set_title('Total Sales in California for 2017 and 2018')\n",
        "g.set_xlabel('Year')\n",
        "g.set_ylabel('Total Sales')\n",
        "g.xaxis.set_major_locator(FixedLocator([0, 1]))\n",
        "plt.show()"
      ],
      "metadata": {
        "colab": {
          "base_uri": "https://localhost:8080/",
          "height": 564
        },
        "id": "wyBPyZV5lFOQ",
        "outputId": "4c5246c4-1ee8-450e-f4c5-4d77ab454b7e"
      },
      "execution_count": 5,
      "outputs": [
        {
          "output_type": "display_data",
          "data": {
            "text/plain": [
              "<Figure size 800x600 with 1 Axes>"
            ],
            "image/png": "[encoded data removed]"
          },
          "metadata": {}
        }
      ]
    },
    {
      "cell_type": "markdown",
      "source": [
        "# Statistical Testing"
      ],
      "metadata": {
        "id": "1_JCJMPyqJF2"
      }
    },
    {
      "cell_type": "code",
      "source": [
        "# Shapiro-Wilk Test for normality reveals that both 2017 and 2018 sales data have high skewness and kurtosis values.\n",
        "\n",
        "print(\"Descriptive statistics for 2017 sales:\")\n",
        "print(stats.describe(sales_ca_17['sales']))\n",
        "print(\"Descriptive statistics for 2018 sales:\")\n",
        "print(stats.describe(sales_ca_18['sales']))\n",
        "print(\"Shapiro-Wilk test for 2017 sales:\")\n",
        "print(stats.shapiro(sales_ca_17['sales']))\n",
        "print(\"Shapiro-Wilk test for 2018 sales:\")\n",
        "print(stats.shapiro(sales_ca_18['sales']))"
      ],
      "metadata": {
        "colab": {
          "base_uri": "https://localhost:8080/"
        },
        "id": "hCwJvL9ikcKp",
        "outputId": "b8f63ec5-59b6-4218-fe87-03b902275e1e"
      },
      "execution_count": 6,
      "outputs": [
        {
          "output_type": "stream",
          "name": "stdout",
          "text": [
            "Descriptive statistics for 2017 sales:\n",
            "DescribeResult(nobs=508, minmax=(3.15, 4912.59), mean=249.1003218503937, variance=312201.3773404845, skewness=4.816257308055658, kurtosis=27.99225599024131)\n",
            "Descriptive statistics for 2018 sales:\n",
            "DescribeResult(nobs=652, minmax=(0.99, 5083.96), mean=221.8815467791411, variance=216669.90455509577, skewness=5.316660913774219, kurtosis=39.458064662794364)\n",
            "Shapiro-Wilk test for 2017 sales:\n",
            "ShapiroResult(statistic=0.4455324411392212, pvalue=9.073030439060471e-37)\n",
            "Shapiro-Wilk test for 2018 sales:\n",
            "ShapiroResult(statistic=0.4645543098449707, pvalue=3.5765901224348036e-40)\n"
          ]
        }
      ]
    },
    {
      "cell_type": "code",
      "source": [
        "# The descriptive statistics also reveals that both 2017 and 2018 sales data have high skewness and kurtosis values.\n",
        "#     both over the threshhold of 3. From here we can conclude that data is not evenly distributed.\n",
        "#     Also after conducting Shapiro-Wilk test to determin normality, both p-values are significantly\n",
        "#     lower than 0.05 threshhold, so we can reject the null hypothesis in both cases.  #######\n",
        "print(stats.describe(sales_ca_17['sales']))\n",
        "print(stats.describe(sales_ca_18['sales']))\n",
        "print(stats.shapiro(sales_ca_17['sales']))\n",
        "print(stats.shapiro(sales_ca_18['sales']))\n"
      ],
      "metadata": {
        "colab": {
          "base_uri": "https://localhost:8080/"
        },
        "id": "Ebf1o63zjR4K",
        "outputId": "db8f04a0-b341-4d15-d992-573e2737d766"
      },
      "execution_count": 7,
      "outputs": [
        {
          "output_type": "stream",
          "name": "stdout",
          "text": [
            "DescribeResult(nobs=508, minmax=(3.15, 4912.59), mean=249.1003218503937, variance=312201.3773404845, skewness=4.816257308055658, kurtosis=27.99225599024131)\n",
            "DescribeResult(nobs=652, minmax=(0.99, 5083.96), mean=221.8815467791411, variance=216669.90455509577, skewness=5.316660913774219, kurtosis=39.458064662794364)\n",
            "ShapiroResult(statistic=0.4455324411392212, pvalue=9.073030439060471e-37)\n",
            "ShapiroResult(statistic=0.4645543098449707, pvalue=3.5765901224348036e-40)\n"
          ]
        }
      ]
    },
    {
      "cell_type": "code",
      "source": [
        "# Confidence interval for the two years indicates that there is an overlap in confidence interval and we cannot say conclusively that there is a\n",
        "#    significant difference in the mean sales between 2017 and 2018 based on confidence interval alone.\n",
        "\n",
        "def bootstrap_confidence_interval(data, n_bootstrap=10000, ci=95):\n",
        "    bootstrap_samples = np.random.choice(data, size=(n_bootstrap, len(data)), replace=True)\n",
        "    bootstrap_mean = np.mean(bootstrap_samples, axis=1)\n",
        "    lower_bound = np.percentile(bootstrap_mean, (100-ci)/2)\n",
        "    upper_bound = np.percentile(bootstrap_mean, 100-(100-ci)/2)\n",
        "    return lower_bound, upper_bound\n",
        "\n",
        "ci_2017 = bootstrap_confidence_interval(sales_ca_17['sales'].values)\n",
        "ci_2018 = bootstrap_confidence_interval(sales_ca_18['sales'].values)\n",
        "\n",
        "print(f\"95% confidence interval for 2017 sales: {ci_2017}\")\n",
        "print(f\"95% confidence interval for 2018 sales: {ci_2018}\")\n",
        "\n"
      ],
      "metadata": {
        "colab": {
          "base_uri": "https://localhost:8080/"
        },
        "id": "0qE9SEG0mR3e",
        "outputId": "a323e162-81ab-4160-dbc3-cb1585dd995f"
      },
      "execution_count": 8,
      "outputs": [
        {
          "output_type": "stream",
          "name": "stdout",
          "text": [
            "95% confidence interval for 2017 sales: (203.05538710629924, 300.0814178149606)\n",
            "95% confidence interval for 2018 sales: (188.13597273773007, 259.1295579371166)\n"
          ]
        }
      ]
    },
    {
      "cell_type": "code",
      "source": [
        "# Mann-Whitney U Test\n",
        "#      Because data is not normally distributed I will be using Mann-Whitney U Test instead of t-test\n",
        "#      The test result (p=0.859) indicates that the aparent difference in sales for 2017 and 2018 could\n",
        "#      reasonably have occurred by chance. Given this result, we cannot support the alternative hypothesis (H1)\n",
        "#      stating that there was a statistically significant increase (or decrease) in sales in 2018 compared to 2017.\n",
        "#      Instead, the data support the null hypothesis (H0) of no difference in the distribution of sales between the two years.  #######\n",
        "stat, p = mannwhitneyu(sales_ca_17['sales'], sales_ca_18['sales'])\n",
        "print('Statistics=%.3f, p=%.3f' % (stat, p))\n",
        "alpha = 0.05\n",
        "if p > alpha:\n",
        "    print('Same distribution (fail to reject H0)')\n",
        "else:\n",
        "    print('Different distribution (reject H0)')\n"
      ],
      "metadata": {
        "colab": {
          "base_uri": "https://localhost:8080/"
        },
        "id": "50iVMGkvnLZ7",
        "outputId": "cc44a6e1-7e30-48b1-fafa-48d55e4a0572"
      },
      "execution_count": 9,
      "outputs": [
        {
          "output_type": "stream",
          "name": "stdout",
          "text": [
            "Statistics=164605.000, p=0.859\n",
            "Same distribution (fail to reject H0)\n"
          ]
        }
      ]
    },
    {
      "cell_type": "code",
      "source": [
        "# Kruskal-Wallis Test for Product Categories\n",
        "#      Further, even if there is no statistically significant difference between sales in two years overall,\n",
        "#      we can still dive into the sales of individual products in each year to understand market dinamics\n",
        "#      and identify trends and potentially adjusting product portfolio. For this, since non-normality of both groups\n",
        "#      is established, I will use non-parametric Kruskal-Walis test to test the three categories of products by pairs in each year.\n",
        "#      Based on Kruskal-Walis test we can conclude that there is statistically significant difference in the furniture sales\n",
        "#      between the two years 2017 and 2018 with the p-value of 0.026. which is below the 0.05 threshhold.\n",
        "categories = sales_ca['category'].unique()\n",
        "category_year_groups = {}\n",
        "for category in categories:\n",
        "    for year in [2017, 2018]:\n",
        "        key = f\"{category}_{year}\"\n",
        "        category_year_groups[key] = sales_ca[(sales_ca['category'] == category) & (sales_ca['year'] == year)]\n",
        "\n",
        "for category in categories:\n",
        "    sales_list = [category_year_groups[f\"{category}_{year}\"]['sales'].values for year in [2017, 2018]]\n",
        "    stat, p = kruskal(*sales_list)\n",
        "    print(f\"Category: {category}, Kruskal-Wallis H Test Statistic: {stat}, p-value: {p}\")\n",
        "\n"
      ],
      "metadata": {
        "colab": {
          "base_uri": "https://localhost:8080/"
        },
        "id": "SYimqEoyoIYY",
        "outputId": "c69361fb-81cc-42d8-b5b6-90a1188e463f"
      },
      "execution_count": 10,
      "outputs": [
        {
          "output_type": "stream",
          "name": "stdout",
          "text": [
            "Category: office supplies, Kruskal-Wallis H Test Statistic: 1.1391476081168725, p-value: 0.2858325142677564\n",
            "Category: furniture, Kruskal-Wallis H Test Statistic: 4.962204333818368, p-value: 0.025907162114951282\n",
            "Category: technology, Kruskal-Wallis H Test Statistic: 0.03691777298129537, p-value: 0.8476325566180223\n"
          ]
        }
      ]
    },
    {
      "cell_type": "code",
      "source": [
        "# Define furniture_sales_2017 and furniture_sales_2018\n",
        "furniture_sales_2017 = sales_ca[(sales_ca['category'] == 'furniture') & (sales_ca['year'] == 2017)]['sales']\n",
        "furniture_sales_2018 = sales_ca[(sales_ca['category'] == 'furniture') & (sales_ca['year'] == 2018)]['sales']"
      ],
      "metadata": {
        "id": "WhxLM09nppvh"
      },
      "execution_count": 11,
      "outputs": []
    },
    {
      "cell_type": "code",
      "source": [
        "# Box Plot for Furniture Sales\n",
        "\n",
        "plt.figure(figsize=(10, 6))\n",
        "sns.boxplot(x='year', y='sales', data=sales_ca[(sales_ca['category'] == 'furniture') & (sales_ca['year'].isin([2017, 2018]))])\n",
        "plt.title('Furniture Sales in 2017 vs 2018')\n",
        "plt.xlabel('Year')\n",
        "plt.ylabel('Sales')\n",
        "plt.xticks([0, 1], ['2017', '2018'])\n",
        "plt.show()\n"
      ],
      "metadata": {
        "colab": {
          "base_uri": "https://localhost:8080/",
          "height": 564
        },
        "id": "qriam0vRqA05",
        "outputId": "39b308ed-2a36-4604-9721-5dc61d188f0f"
      },
      "execution_count": 12,
      "outputs": [
        {
          "output_type": "display_data",
          "data": {
            "text/plain": [
              "<Figure size 1000x600 with 1 Axes>"
            ],
            "image/png": "[encoded data removed]"
          },
          "metadata": {}
        }
      ]
    },
    {
      "cell_type": "code",
      "source": [
        "# Mann-Whitney U Test for Furniture Sales\n",
        "#     Performing Mann-Whitney U test to confirm that there is statistically significant difference in sales of furniture between years 2017 and 2018. Then\n",
        "#     comparing means between two groups to see which year sold more furniture on average. This will help identify which year had statistically\n",
        "#     significantly more sales of furniture. As the test revealed in 2017 furniture sales on average was more indeed than in 2018.\n",
        "\n",
        "stat, p = mannwhitneyu(furniture_sales_2017, furniture_sales_2018)\n",
        "print(f\"Mann-Whitney U Test on Furniture Sales\\nStatistic: {stat}, p-value: {p}\")\n",
        "\n",
        "median_sales_2017 = furniture_sales_2017.median()\n",
        "median_sales_2018 = furniture_sales_2018.median()\n",
        "\n",
        "print(f\"Median sales in 2017: {median_sales_2017}\")\n",
        "print(f\"Median sales in 2018: {median_sales_2018}\")\n"
      ],
      "metadata": {
        "colab": {
          "base_uri": "https://localhost:8080/"
        },
        "id": "LLO6TA7soyGs",
        "outputId": "fc4eb718-b7a3-400a-e2a5-915bb0173e20"
      },
      "execution_count": 13,
      "outputs": [
        {
          "output_type": "stream",
          "name": "stdout",
          "text": [
            "Mann-Whitney U Test on Furniture Sales\n",
            "Statistic: 8701.5, p-value: 0.025967416368499887\n",
            "Median sales in 2017: 239.666\n",
            "Median sales in 2018: 170.352\n"
          ]
        }
      ]
    },
    {
      "cell_type": "markdown",
      "source": [
        "# Conclusion\n",
        "\n",
        "In conclusion, ther is no statistically significant increase in sales from 2017 to 2018 dispite more overall sales and there is statistically significant decrease in furniture sales in particular in 2018. This warrants further research into what accounts for decline in sales in 2018, including changes in consumer demand, product range adjustments, pricing\n",
        "strategies, or promotional activities specific to the furniture category. Further analysis could also involve looking at the effect size to understand\n",
        "the magnitude of the difference."
      ],
      "metadata": {
        "id": "8qYDDgfstGov"
      }
    }
  ]
}